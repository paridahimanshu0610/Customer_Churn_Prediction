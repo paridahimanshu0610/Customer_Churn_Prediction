{
 "cells": [
  {
   "cell_type": "code",
   "execution_count": 1,
   "id": "eaca1e00",
   "metadata": {},
   "outputs": [],
   "source": [
    "import numpy as np \n",
    "import pandas as pd \n",
    "import pickle"
   ]
  },
  {
   "cell_type": "code",
   "execution_count": 13,
   "id": "bb5f28e3",
   "metadata": {},
   "outputs": [],
   "source": [
    "scaler_filename = 'scaler.pkl'"
   ]
  },
  {
   "cell_type": "code",
   "execution_count": 3,
   "id": "59a68235",
   "metadata": {},
   "outputs": [],
   "source": [
    "def dummy_encode(cat_feat):\n",
    "    keys = {'SeniorCitizen_1', 'Partner_Yes', \n",
    "           'Dependents_Yes', 'OnlineSecurity_Yes', 'TechSupport_Yes', \n",
    "           'Contract_One year', 'Contract_Two year', 'PaperlessBilling_Yes', \n",
    "           'PaymentMethod_Credit card (automatic)', 'PaymentMethod_Electronic check'}\n",
    "\n",
    "    res = {i: None for i in keys}\n",
    "    \n",
    "    res['SeniorCitizen_1'] = 1 if cat_feat['SeniorCitizen'] == 'Yes' else 0 \n",
    "    res['Partner_Yes'] = 1 if cat_feat['Partner'] == 'Yes' else 0\n",
    "    res['Dependents_Yes'] = 1 if cat_feat['Dependents'] == 'Yes' else 0\n",
    "    res['OnlineSecurity_Yes'] = 1 if cat_feat['OnlineSecurity'] == 'Yes' else 0\n",
    "    res['TechSupport_Yes'] = 1 if cat_feat['TechSupport'] == 'Yes' else 0\n",
    "    res['PaperlessBilling_Yes'] = 1 if cat_feat['PaperlessBilling'] == 'Yes' else 0\n",
    "    \n",
    "    if cat_feat['Contract'] == 'One year':\n",
    "        res['Contract_One year'], res['Contract_Two year'] = 1, 0\n",
    "    elif cat_feat['Contract'] == 'Two year':\n",
    "        res['Contract_One year'], res['Contract_Two year'] = 0, 1\n",
    "    else:\n",
    "        res['Contract_One year'], res['Contract_Two year'] = 0, 0\n",
    "        \n",
    "    if cat_feat['PaymentMethod'] == 'Credit card':\n",
    "        res['PaymentMethod_Credit card (automatic)'], res['PaymentMethod_Electronic check'] = 1, 0\n",
    "    elif cat_feat['PaymentMethod'] == 'Electronic check':\n",
    "        res['PaymentMethod_Credit card (automatic)'], res['PaymentMethod_Electronic check'] = 0, 1\n",
    "    else:\n",
    "        res['PaymentMethod_Credit card (automatic)'], res['PaymentMethod_Electronic check'] = 0, 0 \n",
    "        \n",
    "    return res"
   ]
  },
  {
   "cell_type": "code",
   "execution_count": 27,
   "id": "f5f415e8",
   "metadata": {},
   "outputs": [],
   "source": [
    "def scale_features(num_feat):\n",
    "    keys = {'tenure', 'MonthlyCharges'}\n",
    "    res = {i: None for i in keys}\n",
    "    df = pd.DataFrame(num_feat, index=[0])\n",
    "    \n",
    "    load_scaler = pickle.load(open(scaler_filename, 'rb'))\n",
    "    [[res['tenure'], res['MonthlyCharges']]] = load_scaler.transform(df).tolist()\n",
    "    \n",
    "    return res"
   ]
  },
  {
   "cell_type": "code",
   "execution_count": 28,
   "id": "70152f8f",
   "metadata": {},
   "outputs": [],
   "source": [
    "def transform_features(features):\n",
    "    cf = ['SeniorCitizen', 'Partner', 'Dependents', 'OnlineSecurity',\n",
    "         'TechSupport', 'Contract', 'PaperlessBilling', 'PaymentMethod']\n",
    "    nf = ['tenure', 'MonthlyCharges']\n",
    "    ordered_keys = ['tenure', 'MonthlyCharges', 'SeniorCitizen_1', 'Partner_Yes',\n",
    "           'Dependents_Yes', 'OnlineSecurity_Yes', 'TechSupport_Yes',\n",
    "           'Contract_One year', 'Contract_Two year', 'PaperlessBilling_Yes',\n",
    "           'PaymentMethod_Credit card (automatic)', 'PaymentMethod_Electronic check']\n",
    "    \n",
    "    cat_features = {i: features[i] for i in cf}\n",
    "    num_features = {i: features[i] for i in nf}\n",
    "    \n",
    "    res = dummy_encode(cat_features)\n",
    "    temp = scale_features(num_features)\n",
    "    res.update(temp)\n",
    "    \n",
    "    res = {key: res[key] for key in ordered_keys}\n",
    "    \n",
    "    return res"
   ]
  }
 ],
 "metadata": {
  "kernelspec": {
   "display_name": "Python 3 (ipykernel)",
   "language": "python",
   "name": "python3"
  },
  "language_info": {
   "codemirror_mode": {
    "name": "ipython",
    "version": 3
   },
   "file_extension": ".py",
   "mimetype": "text/x-python",
   "name": "python",
   "nbconvert_exporter": "python",
   "pygments_lexer": "ipython3",
   "version": "3.11.3"
  }
 },
 "nbformat": 4,
 "nbformat_minor": 5
}
